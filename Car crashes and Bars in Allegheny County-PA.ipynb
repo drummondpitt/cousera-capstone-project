{
    "nbformat_minor": 1, 
    "cells": [
        {
            "source": "# **Alcohol, car crashes and bars in Allegheny County,PA**", 
            "cell_type": "markdown", 
            "metadata": {
                "collapsed": true
            }
        }, 
        {
            "source": "## Alcohol Use in the United States:\n**Prevalence of Drinking:** According to the 2015 National Survey on Drug Use and Health (NSDUH), 86.4 percent of people ages 18 or older reported that they drank alcohol at some point in their lifetime; 70.1 percent reported that they drank in the past year; 56.0 percent reported that they drank in the past month.\n\n**Prevalence of Binge Drinking and Heavy Alcohol Use:** In 2015, 26.9 percent of people ages 18 or older reported that they engaged in binge drinking in the past month; 7.0 percent reported that they engaged in heavy alcohol use in the past month.2 (See \"Definitions\" box for definitions of binge drinking and heavy alcohol use.)\n### Alcohol-Related Deaths:\nAn estimated **88,0008 people** (approximately 62,000 men and 26,000 women8) die from alcohol-related causes annually, making alcohol the **third leading preventable cause of death in the United States**. The first is tobacco, and the second is poor diet and physical inactivity.\nOnly in 2014, alcohol-impaired driving fatalities accounted for **9,967 deaths** (31 percent of overall driving fatalities).\n\n<a href=\"https://www.niaaa.nih.gov/alcohol-health/overview-alcohol-consumption/alcohol-facts-and-statistics\">Source</a>\n\n\n## Car Crashes in the United States:\n\nThe National Safety Council estimates that motor vehicle deaths claimed 40,100 lives in 2017 versus the 2016 total of 40,327. The 2017 assessment is 6% higher than the number of deaths in 2015. If the estimate holds, it will be the second consecutive year that motor vehicle deaths topped 40,000.\n\nAbout 4.57 million people were injured seriously enough to require medical attention in motor vehicle crashes in 2017, and costs to society totaled $413.8 billion. Both figures are about 1% lower than 2016 calculations.\n\n<a href=\"https://www.nsc.org/road-safety/safety-topics/fatality-estimates\">Source</a>\n\n\n## Introduction\n\nIn this study we will verify if there is any relationship between car crashes and the proximity bars/pubs to where the accident happened in Allegheny County in Pennsylvania (a radius of 5 miles will be used to find if there's any venue that sells alcohol around) using datasets provided by the <a href=\"https://www.data.gov/catalog-help/\">Data.gov</a>, and the venue search tool provided by the <a href=\"https://developer.foursquare.com/\">Foursquare API</a>. ", 
            "cell_type": "markdown", 
            "metadata": {}
        }, 
        {
            "source": "First, lets import a few libraries that are going to be used:", 
            "cell_type": "markdown", 
            "metadata": {}
        }, 
        {
            "execution_count": 1, 
            "cell_type": "code", 
            "metadata": {}, 
            "outputs": [], 
            "source": "import pandas as pd\nimport numpy as np"
        }, 
        {
            "source": "Now, lets load the data into a Pandas data frame the data containing Car Crashes in Allegheny County. This data set can be downloaded <a href=\"https://data.wprdc.org/datastore/dump/2c13021f-74a9-4289-a1e5-fe0472c89881\">here</a> and contain data about car crashes from 2004 until 2017.", 
            "cell_type": "markdown", 
            "metadata": {}
        }, 
        {
            "execution_count": 2, 
            "cell_type": "code", 
            "metadata": {}, 
            "outputs": [
                {
                    "output_type": "stream", 
                    "name": "stderr", 
                    "text": "/opt/conda/envs/DSX-Python35/lib/python3.5/site-packages/IPython/core/interactiveshell.py:2698: DtypeWarning: Columns (79,183) have mixed types. Specify dtype option on import or set low_memory=False.\n  interactivity=interactivity, compiler=compiler, result=result)\n"
                }, 
                {
                    "output_type": "stream", 
                    "name": "stdout", 
                    "text": "Data set loaded\n"
                }
            ], 
            "source": "car_crashes = pd.read_csv(\"https://data.wprdc.org/datastore/dump/2c13021f-74a9-4289-a1e5-fe0472c89881\")\nprint(\"Data set loaded\")"
        }, 
        {
            "source": "Lets check the size of the data frame:", 
            "cell_type": "markdown", 
            "metadata": {}
        }, 
        {
            "execution_count": 3, 
            "cell_type": "code", 
            "metadata": {}, 
            "outputs": [
                {
                    "output_type": "stream", 
                    "name": "stdout", 
                    "text": "The data set car crashes has (170365, 190)\n"
                }
            ], 
            "source": "print(\"The data set car crashes has\", car_crashes.shape)"
        }, 
        {
            "source": "As we can see the data set has **170.365 entries** and **190 columns**.\n\nHere is a quick peek of what it looks like:", 
            "cell_type": "markdown", 
            "metadata": {}
        }, 
        {
            "execution_count": 4, 
            "cell_type": "code", 
            "metadata": {}, 
            "outputs": [
                {
                    "execution_count": 4, 
                    "metadata": {}, 
                    "data": {
                        "text/html": "<div>\n<style scoped>\n    .dataframe tbody tr th:only-of-type {\n        vertical-align: middle;\n    }\n\n    .dataframe tbody tr th {\n        vertical-align: top;\n    }\n\n    .dataframe thead th {\n        text-align: right;\n    }\n</style>\n<table border=\"1\" class=\"dataframe\">\n  <thead>\n    <tr style=\"text-align: right;\">\n      <th></th>\n      <th>CRASH_CRN</th>\n      <th>DISTRICT</th>\n      <th>CRASH_COUNTY</th>\n      <th>MUNICIPALITY</th>\n      <th>POLICE_AGCY</th>\n      <th>CRASH_YEAR</th>\n      <th>CRASH_MONTH</th>\n      <th>DAY_OF_WEEK</th>\n      <th>TIME_OF_DAY</th>\n      <th>HOUR_OF_DAY</th>\n      <th>...</th>\n      <th>LANE_COUNT</th>\n      <th>RDWY_ORIENT</th>\n      <th>ROAD_OWNER</th>\n      <th>ROUTE</th>\n      <th>SPEED_LIMIT</th>\n      <th>SEGMENT</th>\n      <th>OFFSET</th>\n      <th>STREET_NAME</th>\n      <th>TOT_INJ_COUNT</th>\n      <th>SCHOOL_BUS_UNIT</th>\n    </tr>\n  </thead>\n  <tbody>\n    <tr>\n      <th>0</th>\n      <td>2004000001</td>\n      <td>11</td>\n      <td>2</td>\n      <td>2454</td>\n      <td>02454</td>\n      <td>2004</td>\n      <td>1</td>\n      <td>5</td>\n      <td>257.0</td>\n      <td>2.0</td>\n      <td>...</td>\n      <td>2.0</td>\n      <td>E</td>\n      <td>2.0</td>\n      <td>2032</td>\n      <td>35.0</td>\n      <td>10.0</td>\n      <td>1000.0</td>\n      <td>LEWIS RUN RD</td>\n      <td>NaN</td>\n      <td>NaN</td>\n    </tr>\n    <tr>\n      <th>1</th>\n      <td>2004000010</td>\n      <td>11</td>\n      <td>2</td>\n      <td>2440</td>\n      <td>02440</td>\n      <td>2004</td>\n      <td>1</td>\n      <td>5</td>\n      <td>1027.0</td>\n      <td>10.0</td>\n      <td>...</td>\n      <td>2.0</td>\n      <td>W</td>\n      <td>3.0</td>\n      <td>NaN</td>\n      <td>35.0</td>\n      <td>NaN</td>\n      <td>NaN</td>\n      <td>COAL VALLEY RD</td>\n      <td>NaN</td>\n      <td>NaN</td>\n    </tr>\n    <tr>\n      <th>2</th>\n      <td>2004000016</td>\n      <td>11</td>\n      <td>2</td>\n      <td>2203</td>\n      <td>02203</td>\n      <td>2004</td>\n      <td>1</td>\n      <td>5</td>\n      <td>1839.0</td>\n      <td>18.0</td>\n      <td>...</td>\n      <td>2.0</td>\n      <td>W</td>\n      <td>2.0</td>\n      <td>3082</td>\n      <td>35.0</td>\n      <td>NaN</td>\n      <td>NaN</td>\n      <td>CLINTON FRANKFORT RD</td>\n      <td>NaN</td>\n      <td>NaN</td>\n    </tr>\n    <tr>\n      <th>3</th>\n      <td>2004000022</td>\n      <td>11</td>\n      <td>2</td>\n      <td>2404</td>\n      <td>02404</td>\n      <td>2004</td>\n      <td>1</td>\n      <td>6</td>\n      <td>914.0</td>\n      <td>9.0</td>\n      <td>...</td>\n      <td>2.0</td>\n      <td>N</td>\n      <td>4.0</td>\n      <td>NaN</td>\n      <td>25.0</td>\n      <td>NaN</td>\n      <td>NaN</td>\n      <td>NORTH BALPH AV</td>\n      <td>NaN</td>\n      <td>NaN</td>\n    </tr>\n    <tr>\n      <th>4</th>\n      <td>2004000030</td>\n      <td>11</td>\n      <td>2</td>\n      <td>2419</td>\n      <td>02419</td>\n      <td>2004</td>\n      <td>1</td>\n      <td>5</td>\n      <td>2230.0</td>\n      <td>22.0</td>\n      <td>...</td>\n      <td>2.0</td>\n      <td>S</td>\n      <td>4.0</td>\n      <td>NaN</td>\n      <td>20.0</td>\n      <td>NaN</td>\n      <td>NaN</td>\n      <td>THORNBERRY DR</td>\n      <td>NaN</td>\n      <td>NaN</td>\n    </tr>\n  </tbody>\n</table>\n<p>5 rows \u00d7 190 columns</p>\n</div>", 
                        "text/plain": "    CRASH_CRN  DISTRICT  CRASH_COUNTY  MUNICIPALITY POLICE_AGCY  CRASH_YEAR  \\\n0  2004000001        11             2          2454       02454        2004   \n1  2004000010        11             2          2440       02440        2004   \n2  2004000016        11             2          2203       02203        2004   \n3  2004000022        11             2          2404       02404        2004   \n4  2004000030        11             2          2419       02419        2004   \n\n   CRASH_MONTH  DAY_OF_WEEK  TIME_OF_DAY  HOUR_OF_DAY       ...        \\\n0            1            5        257.0          2.0       ...         \n1            1            5       1027.0         10.0       ...         \n2            1            5       1839.0         18.0       ...         \n3            1            6        914.0          9.0       ...         \n4            1            5       2230.0         22.0       ...         \n\n   LANE_COUNT  RDWY_ORIENT  ROAD_OWNER  ROUTE  SPEED_LIMIT  SEGMENT  OFFSET  \\\n0         2.0            E         2.0   2032         35.0     10.0  1000.0   \n1         2.0            W         3.0    NaN         35.0      NaN     NaN   \n2         2.0            W         2.0   3082         35.0      NaN     NaN   \n3         2.0            N         4.0    NaN         25.0      NaN     NaN   \n4         2.0            S         4.0    NaN         20.0      NaN     NaN   \n\n            STREET_NAME  TOT_INJ_COUNT SCHOOL_BUS_UNIT  \n0          LEWIS RUN RD            NaN             NaN  \n1        COAL VALLEY RD            NaN             NaN  \n2  CLINTON FRANKFORT RD            NaN             NaN  \n3        NORTH BALPH AV            NaN             NaN  \n4         THORNBERRY DR            NaN             NaN  \n\n[5 rows x 190 columns]"
                    }, 
                    "output_type": "execute_result"
                }
            ], 
            "source": "car_crashes.head()"
        }, 
        {
            "source": "For this study many of the columns listed won't be used. So, to make things a little easier to understand, lets clean up our data set by dropping the data that won't be used.", 
            "cell_type": "markdown", 
            "metadata": {}
        }, 
        {
            "execution_count": 5, 
            "cell_type": "code", 
            "metadata": {}, 
            "outputs": [], 
            "source": "car_crashes_c = car_crashes[['PERSON_COUNT', 'VEHICLE_COUNT', 'FATAL_COUNT', 'INJURY_COUNT', 'DEC_LAT', 'DEC_LONG', 'DRINKING_DRIVER', 'STREET_NAME']]"
        }, 
        {
            "execution_count": 6, 
            "cell_type": "code", 
            "metadata": {}, 
            "outputs": [
                {
                    "execution_count": 6, 
                    "metadata": {}, 
                    "data": {
                        "text/html": "<div>\n<style scoped>\n    .dataframe tbody tr th:only-of-type {\n        vertical-align: middle;\n    }\n\n    .dataframe tbody tr th {\n        vertical-align: top;\n    }\n\n    .dataframe thead th {\n        text-align: right;\n    }\n</style>\n<table border=\"1\" class=\"dataframe\">\n  <thead>\n    <tr style=\"text-align: right;\">\n      <th></th>\n      <th>PERSON_COUNT</th>\n      <th>VEHICLE_COUNT</th>\n      <th>FATAL_COUNT</th>\n      <th>INJURY_COUNT</th>\n      <th>DEC_LAT</th>\n      <th>DEC_LONG</th>\n      <th>DRINKING_DRIVER</th>\n      <th>STREET_NAME</th>\n    </tr>\n  </thead>\n  <tbody>\n    <tr>\n      <th>0</th>\n      <td>1</td>\n      <td>1</td>\n      <td>0</td>\n      <td>0</td>\n      <td>40.3234</td>\n      <td>-79.9404</td>\n      <td>1</td>\n      <td>LEWIS RUN RD</td>\n    </tr>\n    <tr>\n      <th>1</th>\n      <td>1</td>\n      <td>1</td>\n      <td>0</td>\n      <td>1</td>\n      <td>40.3182</td>\n      <td>-79.9076</td>\n      <td>0</td>\n      <td>COAL VALLEY RD</td>\n    </tr>\n    <tr>\n      <th>2</th>\n      <td>1</td>\n      <td>1</td>\n      <td>0</td>\n      <td>1</td>\n      <td>40.4886</td>\n      <td>-80.3371</td>\n      <td>0</td>\n      <td>CLINTON FRANKFORT RD</td>\n    </tr>\n    <tr>\n      <th>3</th>\n      <td>3</td>\n      <td>2</td>\n      <td>0</td>\n      <td>1</td>\n      <td>NaN</td>\n      <td>NaN</td>\n      <td>0</td>\n      <td>NORTH BALPH AV</td>\n    </tr>\n    <tr>\n      <th>4</th>\n      <td>1</td>\n      <td>2</td>\n      <td>0</td>\n      <td>0</td>\n      <td>NaN</td>\n      <td>NaN</td>\n      <td>0</td>\n      <td>THORNBERRY DR</td>\n    </tr>\n  </tbody>\n</table>\n</div>", 
                        "text/plain": "   PERSON_COUNT  VEHICLE_COUNT  FATAL_COUNT  INJURY_COUNT  DEC_LAT  DEC_LONG  \\\n0             1              1            0             0  40.3234  -79.9404   \n1             1              1            0             1  40.3182  -79.9076   \n2             1              1            0             1  40.4886  -80.3371   \n3             3              2            0             1      NaN       NaN   \n4             1              2            0             0      NaN       NaN   \n\n   DRINKING_DRIVER           STREET_NAME  \n0                1          LEWIS RUN RD  \n1                0        COAL VALLEY RD  \n2                0  CLINTON FRANKFORT RD  \n3                0        NORTH BALPH AV  \n4                0         THORNBERRY DR  "
                    }, 
                    "output_type": "execute_result"
                }
            ], 
            "source": "car_crashes_c.head()"
        }, 
        {
            "execution_count": 7, 
            "cell_type": "code", 
            "metadata": {}, 
            "outputs": [
                {
                    "execution_count": 7, 
                    "metadata": {}, 
                    "data": {
                        "text/plain": "(170365, 8)"
                    }, 
                    "output_type": "execute_result"
                }
            ], 
            "source": "car_crashes_c.shape"
        }, 
        {
            "source": "OK, that's a little better! From the example above we can see that there still are two things that need to be taken care of before we start. \n\n- We need to filter all the accidents that do not involve a drunk driver.\n- There are a some entries that do not have the latitude and longitude.\n\nWe will start by filtering out all non-drinking related accidents in order to have fewer entries that we need to address the lack of coodinantes.", 
            "cell_type": "markdown", 
            "metadata": {}
        }, 
        {
            "execution_count": 8, 
            "cell_type": "code", 
            "metadata": {}, 
            "outputs": [
                {
                    "execution_count": 8, 
                    "metadata": {}, 
                    "data": {
                        "text/plain": "(15316, 8)"
                    }, 
                    "output_type": "execute_result"
                }
            ], 
            "source": "\ncar_crashes_c = car_crashes_c.replace(0, pd.np.nan).dropna(axis=0, how='any', subset=['DRINKING_DRIVER']).reset_index(drop=True)\ncar_crashes_c.shape\n"
        }, 
        {
            "source": "As we can see, by leaving only the accidents in which the driver had ingested alcohol we have now a total of **15.316 entries**.", 
            "cell_type": "markdown", 
            "metadata": {}
        }, 
        {
            "execution_count": 9, 
            "cell_type": "code", 
            "metadata": {}, 
            "outputs": [
                {
                    "execution_count": 9, 
                    "metadata": {}, 
                    "data": {
                        "text/html": "<div>\n<style scoped>\n    .dataframe tbody tr th:only-of-type {\n        vertical-align: middle;\n    }\n\n    .dataframe tbody tr th {\n        vertical-align: top;\n    }\n\n    .dataframe thead th {\n        text-align: right;\n    }\n</style>\n<table border=\"1\" class=\"dataframe\">\n  <thead>\n    <tr style=\"text-align: right;\">\n      <th></th>\n      <th>PERSON_COUNT</th>\n      <th>VEHICLE_COUNT</th>\n      <th>FATAL_COUNT</th>\n      <th>INJURY_COUNT</th>\n      <th>DEC_LAT</th>\n      <th>DEC_LONG</th>\n      <th>DRINKING_DRIVER</th>\n      <th>STREET_NAME</th>\n    </tr>\n  </thead>\n  <tbody>\n    <tr>\n      <th>0</th>\n      <td>1.0</td>\n      <td>1.0</td>\n      <td>NaN</td>\n      <td>NaN</td>\n      <td>40.3234</td>\n      <td>-79.9404</td>\n      <td>1.0</td>\n      <td>LEWIS RUN RD</td>\n    </tr>\n    <tr>\n      <th>1</th>\n      <td>2.0</td>\n      <td>1.0</td>\n      <td>NaN</td>\n      <td>1.0</td>\n      <td>40.3320</td>\n      <td>-79.9542</td>\n      <td>1.0</td>\n      <td>NATIONAL DR</td>\n    </tr>\n    <tr>\n      <th>2</th>\n      <td>2.0</td>\n      <td>2.0</td>\n      <td>NaN</td>\n      <td>NaN</td>\n      <td>40.5741</td>\n      <td>-80.1582</td>\n      <td>1.0</td>\n      <td>FERN HOLLOW RD</td>\n    </tr>\n    <tr>\n      <th>3</th>\n      <td>1.0</td>\n      <td>1.0</td>\n      <td>NaN</td>\n      <td>1.0</td>\n      <td>40.5234</td>\n      <td>-80.1771</td>\n      <td>1.0</td>\n      <td>FOURTH AV</td>\n    </tr>\n    <tr>\n      <th>4</th>\n      <td>5.0</td>\n      <td>2.0</td>\n      <td>NaN</td>\n      <td>NaN</td>\n      <td>NaN</td>\n      <td>NaN</td>\n      <td>1.0</td>\n      <td>SHARPSHILL RD</td>\n    </tr>\n  </tbody>\n</table>\n</div>", 
                        "text/plain": "   PERSON_COUNT  VEHICLE_COUNT  FATAL_COUNT  INJURY_COUNT  DEC_LAT  DEC_LONG  \\\n0           1.0            1.0          NaN           NaN  40.3234  -79.9404   \n1           2.0            1.0          NaN           1.0  40.3320  -79.9542   \n2           2.0            2.0          NaN           NaN  40.5741  -80.1582   \n3           1.0            1.0          NaN           1.0  40.5234  -80.1771   \n4           5.0            2.0          NaN           NaN      NaN       NaN   \n\n   DRINKING_DRIVER     STREET_NAME  \n0              1.0    LEWIS RUN RD  \n1              1.0     NATIONAL DR  \n2              1.0  FERN HOLLOW RD  \n3              1.0       FOURTH AV  \n4              1.0   SHARPSHILL RD  "
                    }, 
                    "output_type": "execute_result"
                }
            ], 
            "source": "car_crashes_c.head()\n"
        }, 
        {
            "source": "Now, lets try to fix the absence of coordinates of some of the entries.", 
            "cell_type": "markdown", 
            "metadata": {}
        }, 
        {
            "source": "First by dropping the cases in which we don't have neither the street name nor the coordinates, because in that case we won't be able to retrieve any positional information.", 
            "cell_type": "markdown", 
            "metadata": {}
        }, 
        {
            "execution_count": 10, 
            "cell_type": "code", 
            "metadata": {}, 
            "outputs": [
                {
                    "execution_count": 10, 
                    "metadata": {}, 
                    "data": {
                        "text/plain": "(15282, 8)"
                    }, 
                    "output_type": "execute_result"
                }
            ], 
            "source": "for index, row in car_crashes_c.iterrows():\n    if (np.isnan(row['DEC_LAT']) and pd.isnull(row['STREET_NAME'])):\n        car_crashes_c.drop(car_crashes_c.index[index], inplace=True)\ncar_crashes_c.shape"
        }, 
        {
            "source": "We proceed by obtaining the coordinates for the entries that only have the street address:", 
            "cell_type": "markdown", 
            "metadata": {}
        }, 
        {
            "execution_count": 11, 
            "cell_type": "code", 
            "metadata": {}, 
            "outputs": [
                {
                    "output_type": "stream", 
                    "name": "stdout", 
                    "text": "Fetching package metadata .............\nSolving package specifications: .\n\nPackage plan for installation in environment /opt/conda/envs/DSX-Python35:\n\nThe following NEW packages will be INSTALLED:\n\n    geographiclib: 1.49-py_0   conda-forge\n    geopy:         1.17.0-py_0 conda-forge\n\ngeographiclib- 100% |################################| Time: 0:00:00   1.05 MB/s\ngeopy-1.17.0-p 100% |################################| Time: 0:00:00   1.61 MB/s\n"
                }
            ], 
            "source": "!conda install -c conda-forge geopy --yes \nfrom geopy.geocoders import Nominatim # module to convert an address into latitude and longitude values"
        }, 
        {
            "source": "Lets verify how many entries don't have coordinates:", 
            "cell_type": "markdown", 
            "metadata": {}
        }, 
        {
            "execution_count": 12, 
            "cell_type": "code", 
            "metadata": {}, 
            "outputs": [
                {
                    "output_type": "stream", 
                    "name": "stdout", 
                    "text": "total 1013\n"
                }
            ], 
            "source": "i=0\nfor index, row in car_crashes_c.iterrows():\n    if np.isnan(row['DEC_LAT']):\n        i+=1\nprint(\"total\", i)"
        }, 
        {
            "source": "Now, lets try to fix the absence of coordinates of some of the entries. (this operation takes a while to complete due the use of the geolocator API)", 
            "cell_type": "markdown", 
            "metadata": {}
        }, 
        {
            "execution_count": 25, 
            "cell_type": "code", 
            "metadata": {}, 
            "outputs": [
                {
                    "output_type": "stream", 
                    "name": "stdout", 
                    "text": "Done retrieving the coordinates!\n"
                }
            ], 
            "source": "for index, row in car_crashes_c.iterrows():\n    if np.isnan(row['DEC_LAT']):\n        address = str(row['STREET_NAME']) + ', PA'\n        geolocator = Nominatim()\n        location = geolocator.geocode(address)\n        if (pd.isnull(location)):\n            car_crashes_c.drop(index, inplace=True)\n        else: \n            car_crashes_c.loc[index, 'DEC_LAT']=location.latitude\n            car_crashes_c.loc[index, 'DEC_LONG']=location.longitude\n    \nprint(\"Done retrieving the coordinates!\")"
        }, 
        {
            "source": "Alright! Time to check how many entries we have left. Note that the addresses that geolocator couldn't find were dropped.", 
            "cell_type": "markdown", 
            "metadata": {}
        }, 
        {
            "execution_count": 32, 
            "cell_type": "code", 
            "metadata": {}, 
            "outputs": [
                {
                    "execution_count": 32, 
                    "metadata": {}, 
                    "data": {
                        "text/plain": "(14721, 8)"
                    }, 
                    "output_type": "execute_result"
                }
            ], 
            "source": "car_crashes_c.reset_index(drop=True, inplace=True)\ncar_crashes_c.shape"
        }, 
        {
            "source": "Our data frame now looks like this:", 
            "cell_type": "markdown", 
            "metadata": {}
        }, 
        {
            "execution_count": 33, 
            "cell_type": "code", 
            "metadata": {}, 
            "outputs": [
                {
                    "execution_count": 33, 
                    "metadata": {}, 
                    "data": {
                        "text/html": "<div>\n<style scoped>\n    .dataframe tbody tr th:only-of-type {\n        vertical-align: middle;\n    }\n\n    .dataframe tbody tr th {\n        vertical-align: top;\n    }\n\n    .dataframe thead th {\n        text-align: right;\n    }\n</style>\n<table border=\"1\" class=\"dataframe\">\n  <thead>\n    <tr style=\"text-align: right;\">\n      <th></th>\n      <th>PERSON_COUNT</th>\n      <th>VEHICLE_COUNT</th>\n      <th>FATAL_COUNT</th>\n      <th>INJURY_COUNT</th>\n      <th>DEC_LAT</th>\n      <th>DEC_LONG</th>\n      <th>DRINKING_DRIVER</th>\n      <th>STREET_NAME</th>\n    </tr>\n  </thead>\n  <tbody>\n    <tr>\n      <th>0</th>\n      <td>1.0</td>\n      <td>1.0</td>\n      <td>NaN</td>\n      <td>NaN</td>\n      <td>40.323400</td>\n      <td>-79.940400</td>\n      <td>1.0</td>\n      <td>LEWIS RUN RD</td>\n    </tr>\n    <tr>\n      <th>1</th>\n      <td>2.0</td>\n      <td>1.0</td>\n      <td>NaN</td>\n      <td>1.0</td>\n      <td>40.332000</td>\n      <td>-79.954200</td>\n      <td>1.0</td>\n      <td>NATIONAL DR</td>\n    </tr>\n    <tr>\n      <th>2</th>\n      <td>2.0</td>\n      <td>2.0</td>\n      <td>NaN</td>\n      <td>NaN</td>\n      <td>40.574100</td>\n      <td>-80.158200</td>\n      <td>1.0</td>\n      <td>FERN HOLLOW RD</td>\n    </tr>\n    <tr>\n      <th>3</th>\n      <td>1.0</td>\n      <td>1.0</td>\n      <td>NaN</td>\n      <td>1.0</td>\n      <td>40.523400</td>\n      <td>-80.177100</td>\n      <td>1.0</td>\n      <td>FOURTH AV</td>\n    </tr>\n    <tr>\n      <th>4</th>\n      <td>5.0</td>\n      <td>2.0</td>\n      <td>NaN</td>\n      <td>NaN</td>\n      <td>40.507039</td>\n      <td>-79.936459</td>\n      <td>1.0</td>\n      <td>SHARPSHILL RD</td>\n    </tr>\n    <tr>\n      <th>5</th>\n      <td>1.0</td>\n      <td>1.0</td>\n      <td>NaN</td>\n      <td>1.0</td>\n      <td>40.340100</td>\n      <td>-79.967300</td>\n      <td>1.0</td>\n      <td>CURRY HOLLOW RD</td>\n    </tr>\n    <tr>\n      <th>6</th>\n      <td>1.0</td>\n      <td>1.0</td>\n      <td>NaN</td>\n      <td>NaN</td>\n      <td>40.324926</td>\n      <td>-79.985527</td>\n      <td>1.0</td>\n      <td>COCHRAN MILL RD</td>\n    </tr>\n    <tr>\n      <th>7</th>\n      <td>2.0</td>\n      <td>1.0</td>\n      <td>NaN</td>\n      <td>1.0</td>\n      <td>40.498100</td>\n      <td>-80.067700</td>\n      <td>1.0</td>\n      <td>CHESTNUT ST</td>\n    </tr>\n    <tr>\n      <th>8</th>\n      <td>2.0</td>\n      <td>2.0</td>\n      <td>NaN</td>\n      <td>2.0</td>\n      <td>40.667200</td>\n      <td>-80.101600</td>\n      <td>1.0</td>\n      <td>BRUSH CREEK RD</td>\n    </tr>\n    <tr>\n      <th>9</th>\n      <td>1.0</td>\n      <td>1.0</td>\n      <td>NaN</td>\n      <td>1.0</td>\n      <td>40.680538</td>\n      <td>-74.178951</td>\n      <td>1.0</td>\n      <td>ELIZABETH AVENUE AV</td>\n    </tr>\n    <tr>\n      <th>10</th>\n      <td>1.0</td>\n      <td>2.0</td>\n      <td>NaN</td>\n      <td>1.0</td>\n      <td>40.328600</td>\n      <td>-79.969600</td>\n      <td>1.0</td>\n      <td>ARBOR LN</td>\n    </tr>\n    <tr>\n      <th>11</th>\n      <td>2.0</td>\n      <td>2.0</td>\n      <td>NaN</td>\n      <td>NaN</td>\n      <td>40.385400</td>\n      <td>-79.825200</td>\n      <td>1.0</td>\n      <td>ROUTE 30 HW</td>\n    </tr>\n    <tr>\n      <th>12</th>\n      <td>1.0</td>\n      <td>1.0</td>\n      <td>NaN</td>\n      <td>1.0</td>\n      <td>40.524700</td>\n      <td>-79.981400</td>\n      <td>1.0</td>\n      <td>WIBLE RUN RD</td>\n    </tr>\n    <tr>\n      <th>13</th>\n      <td>1.0</td>\n      <td>1.0</td>\n      <td>NaN</td>\n      <td>1.0</td>\n      <td>40.586900</td>\n      <td>-79.859500</td>\n      <td>1.0</td>\n      <td>MILL DAM RD</td>\n    </tr>\n    <tr>\n      <th>14</th>\n      <td>4.0</td>\n      <td>2.0</td>\n      <td>NaN</td>\n      <td>NaN</td>\n      <td>40.600300</td>\n      <td>-79.760700</td>\n      <td>1.0</td>\n      <td>WEST 7TH AV</td>\n    </tr>\n    <tr>\n      <th>15</th>\n      <td>1.0</td>\n      <td>1.0</td>\n      <td>NaN</td>\n      <td>NaN</td>\n      <td>40.408000</td>\n      <td>-80.076900</td>\n      <td>1.0</td>\n      <td>CHESTNUT ST</td>\n    </tr>\n    <tr>\n      <th>16</th>\n      <td>1.0</td>\n      <td>1.0</td>\n      <td>NaN</td>\n      <td>1.0</td>\n      <td>40.834628</td>\n      <td>-77.879890</td>\n      <td>1.0</td>\n      <td>PLEASANT HILL RD</td>\n    </tr>\n    <tr>\n      <th>17</th>\n      <td>1.0</td>\n      <td>1.0</td>\n      <td>NaN</td>\n      <td>1.0</td>\n      <td>40.577300</td>\n      <td>-79.969800</td>\n      <td>1.0</td>\n      <td>SAMPLE RD</td>\n    </tr>\n    <tr>\n      <th>18</th>\n      <td>3.0</td>\n      <td>2.0</td>\n      <td>NaN</td>\n      <td>3.0</td>\n      <td>40.425700</td>\n      <td>-80.050300</td>\n      <td>1.0</td>\n      <td>POPLAR ST</td>\n    </tr>\n    <tr>\n      <th>19</th>\n      <td>1.0</td>\n      <td>1.0</td>\n      <td>NaN</td>\n      <td>NaN</td>\n      <td>40.433500</td>\n      <td>-80.065800</td>\n      <td>1.0</td>\n      <td>BRADFORD RD</td>\n    </tr>\n    <tr>\n      <th>20</th>\n      <td>1.0</td>\n      <td>1.0</td>\n      <td>NaN</td>\n      <td>1.0</td>\n      <td>10.783936</td>\n      <td>106.707146</td>\n      <td>1.0</td>\n      <td>STATE ROUTE 51 HW</td>\n    </tr>\n    <tr>\n      <th>21</th>\n      <td>1.0</td>\n      <td>4.0</td>\n      <td>NaN</td>\n      <td>NaN</td>\n      <td>40.619199</td>\n      <td>-80.275746</td>\n      <td>1.0</td>\n      <td>LINCOLN AV</td>\n    </tr>\n    <tr>\n      <th>22</th>\n      <td>2.0</td>\n      <td>2.0</td>\n      <td>NaN</td>\n      <td>NaN</td>\n      <td>40.411415</td>\n      <td>-79.989892</td>\n      <td>1.0</td>\n      <td>BROWNSVILLE RD</td>\n    </tr>\n    <tr>\n      <th>23</th>\n      <td>1.0</td>\n      <td>1.0</td>\n      <td>NaN</td>\n      <td>NaN</td>\n      <td>40.604000</td>\n      <td>-79.794412</td>\n      <td>1.0</td>\n      <td>BAILIES RUN RD</td>\n    </tr>\n    <tr>\n      <th>24</th>\n      <td>1.0</td>\n      <td>1.0</td>\n      <td>NaN</td>\n      <td>NaN</td>\n      <td>40.309000</td>\n      <td>-79.976300</td>\n      <td>1.0</td>\n      <td>COCHRAN MILL RD</td>\n    </tr>\n    <tr>\n      <th>25</th>\n      <td>2.0</td>\n      <td>1.0</td>\n      <td>NaN</td>\n      <td>NaN</td>\n      <td>40.659200</td>\n      <td>-79.974500</td>\n      <td>1.0</td>\n      <td>VALENCIA RD</td>\n    </tr>\n    <tr>\n      <th>26</th>\n      <td>1.0</td>\n      <td>1.0</td>\n      <td>NaN</td>\n      <td>NaN</td>\n      <td>40.426400</td>\n      <td>-80.062600</td>\n      <td>1.0</td>\n      <td>NOBLESTOWN RD</td>\n    </tr>\n    <tr>\n      <th>27</th>\n      <td>3.0</td>\n      <td>2.0</td>\n      <td>NaN</td>\n      <td>2.0</td>\n      <td>40.397700</td>\n      <td>-79.769300</td>\n      <td>1.0</td>\n      <td>BROADWAY BL</td>\n    </tr>\n    <tr>\n      <th>28</th>\n      <td>5.0</td>\n      <td>2.0</td>\n      <td>NaN</td>\n      <td>2.0</td>\n      <td>9.328718</td>\n      <td>-79.891288</td>\n      <td>1.0</td>\n      <td>THIRD ST</td>\n    </tr>\n    <tr>\n      <th>29</th>\n      <td>1.0</td>\n      <td>1.0</td>\n      <td>NaN</td>\n      <td>1.0</td>\n      <td>40.543200</td>\n      <td>-80.217800</td>\n      <td>1.0</td>\n      <td>STOOPS FERRY RD</td>\n    </tr>\n    <tr>\n      <th>30</th>\n      <td>2.0</td>\n      <td>2.0</td>\n      <td>NaN</td>\n      <td>1.0</td>\n      <td>40.497632</td>\n      <td>-75.968991</td>\n      <td>1.0</td>\n      <td>PENN AV</td>\n    </tr>\n    <tr>\n      <th>31</th>\n      <td>3.0</td>\n      <td>2.0</td>\n      <td>NaN</td>\n      <td>1.0</td>\n      <td>40.313700</td>\n      <td>-80.089700</td>\n      <td>1.0</td>\n      <td>WASHINGTON RD</td>\n    </tr>\n    <tr>\n      <th>32</th>\n      <td>1.0</td>\n      <td>1.0</td>\n      <td>NaN</td>\n      <td>NaN</td>\n      <td>40.436400</td>\n      <td>-79.833100</td>\n      <td>1.0</td>\n      <td>NOTTINGHAM DR</td>\n    </tr>\n    <tr>\n      <th>33</th>\n      <td>1.0</td>\n      <td>1.0</td>\n      <td>NaN</td>\n      <td>1.0</td>\n      <td>40.312000</td>\n      <td>-80.087700</td>\n      <td>1.0</td>\n      <td>LINDENWOOD DR</td>\n    </tr>\n    <tr>\n      <th>34</th>\n      <td>3.0</td>\n      <td>3.0</td>\n      <td>NaN</td>\n      <td>NaN</td>\n      <td>40.442900</td>\n      <td>-79.888200</td>\n      <td>1.0</td>\n      <td>SOUTH ST</td>\n    </tr>\n    <tr>\n      <th>35</th>\n      <td>3.0</td>\n      <td>1.0</td>\n      <td>NaN</td>\n      <td>1.0</td>\n      <td>10.783936</td>\n      <td>106.707146</td>\n      <td>1.0</td>\n      <td>STATE ROUTE 51 HW</td>\n    </tr>\n    <tr>\n      <th>36</th>\n      <td>2.0</td>\n      <td>2.0</td>\n      <td>NaN</td>\n      <td>1.0</td>\n      <td>40.401100</td>\n      <td>-79.917900</td>\n      <td>1.0</td>\n      <td>EIGHTH AV</td>\n    </tr>\n    <tr>\n      <th>37</th>\n      <td>2.0</td>\n      <td>2.0</td>\n      <td>NaN</td>\n      <td>1.0</td>\n      <td>40.532460</td>\n      <td>-79.965188</td>\n      <td>1.0</td>\n      <td>KLEBER RD</td>\n    </tr>\n    <tr>\n      <th>38</th>\n      <td>2.0</td>\n      <td>2.0</td>\n      <td>NaN</td>\n      <td>1.0</td>\n      <td>40.438100</td>\n      <td>-79.774200</td>\n      <td>1.0</td>\n      <td>WILLIAM PENN HW</td>\n    </tr>\n    <tr>\n      <th>39</th>\n      <td>1.0</td>\n      <td>1.0</td>\n      <td>NaN</td>\n      <td>1.0</td>\n      <td>40.596900</td>\n      <td>-79.982100</td>\n      <td>1.0</td>\n      <td>WILDWOOD RD</td>\n    </tr>\n    <tr>\n      <th>40</th>\n      <td>2.0</td>\n      <td>2.0</td>\n      <td>NaN</td>\n      <td>NaN</td>\n      <td>40.584400</td>\n      <td>-79.950700</td>\n      <td>1.0</td>\n      <td>WILLIAM FLYNN HW</td>\n    </tr>\n    <tr>\n      <th>41</th>\n      <td>3.0</td>\n      <td>3.0</td>\n      <td>NaN</td>\n      <td>1.0</td>\n      <td>40.039262</td>\n      <td>-76.887751</td>\n      <td>1.0</td>\n      <td>MOUNT ROYAL BL</td>\n    </tr>\n    <tr>\n      <th>42</th>\n      <td>1.0</td>\n      <td>1.0</td>\n      <td>1.0</td>\n      <td>NaN</td>\n      <td>40.306400</td>\n      <td>-79.908400</td>\n      <td>1.0</td>\n      <td>CLAIRTON RD</td>\n    </tr>\n    <tr>\n      <th>43</th>\n      <td>1.0</td>\n      <td>1.0</td>\n      <td>NaN</td>\n      <td>1.0</td>\n      <td>40.651100</td>\n      <td>-80.118100</td>\n      <td>1.0</td>\n      <td>WARRENDALE BAYNE RD</td>\n    </tr>\n    <tr>\n      <th>44</th>\n      <td>1.0</td>\n      <td>2.0</td>\n      <td>NaN</td>\n      <td>NaN</td>\n      <td>40.568200</td>\n      <td>-79.966800</td>\n      <td>1.0</td>\n      <td>MT ROYAL BL</td>\n    </tr>\n    <tr>\n      <th>45</th>\n      <td>1.0</td>\n      <td>1.0</td>\n      <td>NaN</td>\n      <td>NaN</td>\n      <td>40.619100</td>\n      <td>-80.076300</td>\n      <td>1.0</td>\n      <td>WEXFORD BAYNE RD</td>\n    </tr>\n    <tr>\n      <th>46</th>\n      <td>3.0</td>\n      <td>1.0</td>\n      <td>NaN</td>\n      <td>1.0</td>\n      <td>40.335416</td>\n      <td>-80.185536</td>\n      <td>1.0</td>\n      <td>CECIL STURGEON RD</td>\n    </tr>\n    <tr>\n      <th>47</th>\n      <td>3.0</td>\n      <td>3.0</td>\n      <td>NaN</td>\n      <td>1.0</td>\n      <td>40.464700</td>\n      <td>-79.864500</td>\n      <td>1.0</td>\n      <td>HOCHBERG RD</td>\n    </tr>\n    <tr>\n      <th>48</th>\n      <td>3.0</td>\n      <td>1.0</td>\n      <td>NaN</td>\n      <td>NaN</td>\n      <td>40.468900</td>\n      <td>-79.872900</td>\n      <td>1.0</td>\n      <td>MARK DR</td>\n    </tr>\n    <tr>\n      <th>49</th>\n      <td>1.0</td>\n      <td>1.0</td>\n      <td>NaN</td>\n      <td>1.0</td>\n      <td>40.484700</td>\n      <td>-79.761200</td>\n      <td>1.0</td>\n      <td>SCOTT RD</td>\n    </tr>\n  </tbody>\n</table>\n</div>", 
                        "text/plain": "    PERSON_COUNT  VEHICLE_COUNT  FATAL_COUNT  INJURY_COUNT    DEC_LAT  \\\n0            1.0            1.0          NaN           NaN  40.323400   \n1            2.0            1.0          NaN           1.0  40.332000   \n2            2.0            2.0          NaN           NaN  40.574100   \n3            1.0            1.0          NaN           1.0  40.523400   \n4            5.0            2.0          NaN           NaN  40.507039   \n5            1.0            1.0          NaN           1.0  40.340100   \n6            1.0            1.0          NaN           NaN  40.324926   \n7            2.0            1.0          NaN           1.0  40.498100   \n8            2.0            2.0          NaN           2.0  40.667200   \n9            1.0            1.0          NaN           1.0  40.680538   \n10           1.0            2.0          NaN           1.0  40.328600   \n11           2.0            2.0          NaN           NaN  40.385400   \n12           1.0            1.0          NaN           1.0  40.524700   \n13           1.0            1.0          NaN           1.0  40.586900   \n14           4.0            2.0          NaN           NaN  40.600300   \n15           1.0            1.0          NaN           NaN  40.408000   \n16           1.0            1.0          NaN           1.0  40.834628   \n17           1.0            1.0          NaN           1.0  40.577300   \n18           3.0            2.0          NaN           3.0  40.425700   \n19           1.0            1.0          NaN           NaN  40.433500   \n20           1.0            1.0          NaN           1.0  10.783936   \n21           1.0            4.0          NaN           NaN  40.619199   \n22           2.0            2.0          NaN           NaN  40.411415   \n23           1.0            1.0          NaN           NaN  40.604000   \n24           1.0            1.0          NaN           NaN  40.309000   \n25           2.0            1.0          NaN           NaN  40.659200   \n26           1.0            1.0          NaN           NaN  40.426400   \n27           3.0            2.0          NaN           2.0  40.397700   \n28           5.0            2.0          NaN           2.0   9.328718   \n29           1.0            1.0          NaN           1.0  40.543200   \n30           2.0            2.0          NaN           1.0  40.497632   \n31           3.0            2.0          NaN           1.0  40.313700   \n32           1.0            1.0          NaN           NaN  40.436400   \n33           1.0            1.0          NaN           1.0  40.312000   \n34           3.0            3.0          NaN           NaN  40.442900   \n35           3.0            1.0          NaN           1.0  10.783936   \n36           2.0            2.0          NaN           1.0  40.401100   \n37           2.0            2.0          NaN           1.0  40.532460   \n38           2.0            2.0          NaN           1.0  40.438100   \n39           1.0            1.0          NaN           1.0  40.596900   \n40           2.0            2.0          NaN           NaN  40.584400   \n41           3.0            3.0          NaN           1.0  40.039262   \n42           1.0            1.0          1.0           NaN  40.306400   \n43           1.0            1.0          NaN           1.0  40.651100   \n44           1.0            2.0          NaN           NaN  40.568200   \n45           1.0            1.0          NaN           NaN  40.619100   \n46           3.0            1.0          NaN           1.0  40.335416   \n47           3.0            3.0          NaN           1.0  40.464700   \n48           3.0            1.0          NaN           NaN  40.468900   \n49           1.0            1.0          NaN           1.0  40.484700   \n\n      DEC_LONG  DRINKING_DRIVER          STREET_NAME  \n0   -79.940400              1.0         LEWIS RUN RD  \n1   -79.954200              1.0          NATIONAL DR  \n2   -80.158200              1.0       FERN HOLLOW RD  \n3   -80.177100              1.0            FOURTH AV  \n4   -79.936459              1.0        SHARPSHILL RD  \n5   -79.967300              1.0      CURRY HOLLOW RD  \n6   -79.985527              1.0      COCHRAN MILL RD  \n7   -80.067700              1.0          CHESTNUT ST  \n8   -80.101600              1.0       BRUSH CREEK RD  \n9   -74.178951              1.0  ELIZABETH AVENUE AV  \n10  -79.969600              1.0             ARBOR LN  \n11  -79.825200              1.0          ROUTE 30 HW  \n12  -79.981400              1.0         WIBLE RUN RD  \n13  -79.859500              1.0          MILL DAM RD  \n14  -79.760700              1.0          WEST 7TH AV  \n15  -80.076900              1.0          CHESTNUT ST  \n16  -77.879890              1.0     PLEASANT HILL RD  \n17  -79.969800              1.0            SAMPLE RD  \n18  -80.050300              1.0            POPLAR ST  \n19  -80.065800              1.0          BRADFORD RD  \n20  106.707146              1.0    STATE ROUTE 51 HW  \n21  -80.275746              1.0           LINCOLN AV  \n22  -79.989892              1.0       BROWNSVILLE RD  \n23  -79.794412              1.0       BAILIES RUN RD  \n24  -79.976300              1.0      COCHRAN MILL RD  \n25  -79.974500              1.0          VALENCIA RD  \n26  -80.062600              1.0        NOBLESTOWN RD  \n27  -79.769300              1.0          BROADWAY BL  \n28  -79.891288              1.0             THIRD ST  \n29  -80.217800              1.0      STOOPS FERRY RD  \n30  -75.968991              1.0              PENN AV  \n31  -80.089700              1.0        WASHINGTON RD  \n32  -79.833100              1.0        NOTTINGHAM DR  \n33  -80.087700              1.0        LINDENWOOD DR  \n34  -79.888200              1.0             SOUTH ST  \n35  106.707146              1.0    STATE ROUTE 51 HW  \n36  -79.917900              1.0            EIGHTH AV  \n37  -79.965188              1.0            KLEBER RD  \n38  -79.774200              1.0      WILLIAM PENN HW  \n39  -79.982100              1.0          WILDWOOD RD  \n40  -79.950700              1.0     WILLIAM FLYNN HW  \n41  -76.887751              1.0       MOUNT ROYAL BL  \n42  -79.908400              1.0          CLAIRTON RD  \n43  -80.118100              1.0  WARRENDALE BAYNE RD  \n44  -79.966800              1.0          MT ROYAL BL  \n45  -80.076300              1.0     WEXFORD BAYNE RD  \n46  -80.185536              1.0    CECIL STURGEON RD  \n47  -79.864500              1.0          HOCHBERG RD  \n48  -79.872900              1.0              MARK DR  \n49  -79.761200              1.0             SCOTT RD  "
                    }, 
                    "output_type": "execute_result"
                }
            ], 
            "source": "car_crashes_c[0:50]"
        }, 
        {
            "execution_count": null, 
            "cell_type": "code", 
            "metadata": {}, 
            "outputs": [], 
            "source": ""
        }
    ], 
    "metadata": {
        "kernelspec": {
            "display_name": "Python 3.5", 
            "name": "python3", 
            "language": "python"
        }, 
        "language_info": {
            "mimetype": "text/x-python", 
            "nbconvert_exporter": "python", 
            "version": "3.5.5", 
            "name": "python", 
            "file_extension": ".py", 
            "pygments_lexer": "ipython3", 
            "codemirror_mode": {
                "version": 3, 
                "name": "ipython"
            }
        }
    }, 
    "nbformat": 4
}